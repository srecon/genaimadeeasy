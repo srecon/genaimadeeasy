{
 "cells": [
  {
   "cell_type": "code",
   "execution_count": 2,
   "id": "3c5e80b1-aebc-4891-8bed-50589cea3b84",
   "metadata": {
    "collapsed": true,
    "jupyter": {
     "outputs_hidden": true
    },
    "scrolled": true
   },
   "outputs": [
    {
     "name": "stdout",
     "output_type": "stream",
     "text": [
      "Collecting oracledb\n",
      "  Using cached oracledb-2.4.1-cp312-cp312-manylinux_2_17_x86_64.manylinux2014_x86_64.whl.metadata (5.2 kB)\n",
      "Collecting sentence-transformers\n",
      "  Using cached sentence_transformers-3.2.1-py3-none-any.whl.metadata (10 kB)\n",
      "Collecting oci\n",
      "  Using cached oci-2.137.1-py3-none-any.whl.metadata (5.3 kB)\n",
      "Collecting cryptography>=3.2.1 (from oracledb)\n",
      "  Using cached cryptography-43.0.3-cp39-abi3-manylinux_2_28_x86_64.whl.metadata (5.4 kB)\n",
      "Collecting transformers<5.0.0,>=4.41.0 (from sentence-transformers)\n",
      "  Using cached transformers-4.46.0-py3-none-any.whl.metadata (44 kB)\n",
      "Collecting tqdm (from sentence-transformers)\n",
      "  Using cached tqdm-4.66.6-py3-none-any.whl.metadata (57 kB)\n",
      "Collecting torch>=1.11.0 (from sentence-transformers)\n",
      "  Using cached torch-2.5.0-cp312-cp312-manylinux1_x86_64.whl.metadata (28 kB)\n",
      "Collecting scikit-learn (from sentence-transformers)\n",
      "  Using cached scikit_learn-1.5.2-cp312-cp312-manylinux_2_17_x86_64.manylinux2014_x86_64.whl.metadata (13 kB)\n",
      "Collecting scipy (from sentence-transformers)\n",
      "  Using cached scipy-1.14.1-cp312-cp312-manylinux_2_17_x86_64.manylinux2014_x86_64.whl.metadata (60 kB)\n",
      "Collecting huggingface-hub>=0.20.0 (from sentence-transformers)\n",
      "  Using cached huggingface_hub-0.26.2-py3-none-any.whl.metadata (13 kB)\n",
      "Collecting Pillow (from sentence-transformers)\n",
      "  Using cached pillow-11.0.0-cp312-cp312-manylinux_2_28_x86_64.whl.metadata (9.1 kB)\n",
      "Requirement already satisfied: certifi in /home/shamim/miniconda3/envs/oracleai/lib/python3.12/site-packages (from oci) (2024.8.30)\n",
      "Collecting pyOpenSSL<25.0.0,>=17.5.0 (from oci)\n",
      "  Using cached pyOpenSSL-24.2.1-py3-none-any.whl.metadata (13 kB)\n",
      "Requirement already satisfied: python-dateutil<3.0.0,>=2.5.3 in /home/shamim/miniconda3/envs/oracleai/lib/python3.12/site-packages (from oci) (2.9.0.post0)\n",
      "Requirement already satisfied: pytz>=2016.10 in /home/shamim/miniconda3/envs/oracleai/lib/python3.12/site-packages (from oci) (2024.1)\n",
      "Collecting circuitbreaker<3.0.0,>=1.3.1 (from oci)\n",
      "  Using cached circuitbreaker-2.0.0-py2.py3-none-any.whl.metadata (7.7 kB)\n",
      "Requirement already satisfied: cffi>=1.12 in /home/shamim/miniconda3/envs/oracleai/lib/python3.12/site-packages (from cryptography>=3.2.1->oracledb) (1.17.1)\n",
      "Collecting filelock (from huggingface-hub>=0.20.0->sentence-transformers)\n",
      "  Using cached filelock-3.16.1-py3-none-any.whl.metadata (2.9 kB)\n",
      "Collecting fsspec>=2023.5.0 (from huggingface-hub>=0.20.0->sentence-transformers)\n",
      "  Using cached fsspec-2024.10.0-py3-none-any.whl.metadata (11 kB)\n",
      "Requirement already satisfied: packaging>=20.9 in /home/shamim/miniconda3/envs/oracleai/lib/python3.12/site-packages (from huggingface-hub>=0.20.0->sentence-transformers) (24.1)\n",
      "Requirement already satisfied: pyyaml>=5.1 in /home/shamim/miniconda3/envs/oracleai/lib/python3.12/site-packages (from huggingface-hub>=0.20.0->sentence-transformers) (6.0.2)\n",
      "Requirement already satisfied: requests in /home/shamim/miniconda3/envs/oracleai/lib/python3.12/site-packages (from huggingface-hub>=0.20.0->sentence-transformers) (2.32.3)\n",
      "Requirement already satisfied: typing-extensions>=3.7.4.3 in /home/shamim/miniconda3/envs/oracleai/lib/python3.12/site-packages (from huggingface-hub>=0.20.0->sentence-transformers) (4.11.0)\n",
      "Requirement already satisfied: six>=1.5 in /home/shamim/miniconda3/envs/oracleai/lib/python3.12/site-packages (from python-dateutil<3.0.0,>=2.5.3->oci) (1.16.0)\n",
      "Collecting networkx (from torch>=1.11.0->sentence-transformers)\n",
      "  Using cached networkx-3.4.2-py3-none-any.whl.metadata (6.3 kB)\n",
      "Requirement already satisfied: jinja2 in /home/shamim/miniconda3/envs/oracleai/lib/python3.12/site-packages (from torch>=1.11.0->sentence-transformers) (3.1.4)\n",
      "Collecting nvidia-cuda-nvrtc-cu12==12.4.127 (from torch>=1.11.0->sentence-transformers)\n",
      "  Using cached nvidia_cuda_nvrtc_cu12-12.4.127-py3-none-manylinux2014_x86_64.whl.metadata (1.5 kB)\n",
      "Collecting nvidia-cuda-runtime-cu12==12.4.127 (from torch>=1.11.0->sentence-transformers)\n",
      "  Using cached nvidia_cuda_runtime_cu12-12.4.127-py3-none-manylinux2014_x86_64.whl.metadata (1.5 kB)\n",
      "Collecting nvidia-cuda-cupti-cu12==12.4.127 (from torch>=1.11.0->sentence-transformers)\n",
      "  Using cached nvidia_cuda_cupti_cu12-12.4.127-py3-none-manylinux2014_x86_64.whl.metadata (1.6 kB)\n",
      "Collecting nvidia-cudnn-cu12==9.1.0.70 (from torch>=1.11.0->sentence-transformers)\n",
      "  Using cached nvidia_cudnn_cu12-9.1.0.70-py3-none-manylinux2014_x86_64.whl.metadata (1.6 kB)\n",
      "Collecting nvidia-cublas-cu12==12.4.5.8 (from torch>=1.11.0->sentence-transformers)\n",
      "  Using cached nvidia_cublas_cu12-12.4.5.8-py3-none-manylinux2014_x86_64.whl.metadata (1.5 kB)\n",
      "Collecting nvidia-cufft-cu12==11.2.1.3 (from torch>=1.11.0->sentence-transformers)\n",
      "  Using cached nvidia_cufft_cu12-11.2.1.3-py3-none-manylinux2014_x86_64.whl.metadata (1.5 kB)\n",
      "Collecting nvidia-curand-cu12==10.3.5.147 (from torch>=1.11.0->sentence-transformers)\n",
      "  Using cached nvidia_curand_cu12-10.3.5.147-py3-none-manylinux2014_x86_64.whl.metadata (1.5 kB)\n",
      "Collecting nvidia-cusolver-cu12==11.6.1.9 (from torch>=1.11.0->sentence-transformers)\n",
      "  Using cached nvidia_cusolver_cu12-11.6.1.9-py3-none-manylinux2014_x86_64.whl.metadata (1.6 kB)\n",
      "Collecting nvidia-cusparse-cu12==12.3.1.170 (from torch>=1.11.0->sentence-transformers)\n",
      "  Using cached nvidia_cusparse_cu12-12.3.1.170-py3-none-manylinux2014_x86_64.whl.metadata (1.6 kB)\n",
      "Collecting nvidia-nccl-cu12==2.21.5 (from torch>=1.11.0->sentence-transformers)\n",
      "  Using cached nvidia_nccl_cu12-2.21.5-py3-none-manylinux2014_x86_64.whl.metadata (1.8 kB)\n",
      "Collecting nvidia-nvtx-cu12==12.4.127 (from torch>=1.11.0->sentence-transformers)\n",
      "  Using cached nvidia_nvtx_cu12-12.4.127-py3-none-manylinux2014_x86_64.whl.metadata (1.7 kB)\n",
      "Collecting nvidia-nvjitlink-cu12==12.4.127 (from torch>=1.11.0->sentence-transformers)\n",
      "  Using cached nvidia_nvjitlink_cu12-12.4.127-py3-none-manylinux2014_x86_64.whl.metadata (1.5 kB)\n",
      "Collecting triton==3.1.0 (from torch>=1.11.0->sentence-transformers)\n",
      "  Using cached triton-3.1.0-cp312-cp312-manylinux_2_17_x86_64.manylinux2014_x86_64.whl.metadata (1.3 kB)\n",
      "Requirement already satisfied: setuptools in /home/shamim/miniconda3/envs/oracleai/lib/python3.12/site-packages (from torch>=1.11.0->sentence-transformers) (75.1.0)\n",
      "Collecting sympy==1.13.1 (from torch>=1.11.0->sentence-transformers)\n",
      "  Using cached sympy-1.13.1-py3-none-any.whl.metadata (12 kB)\n",
      "Collecting mpmath<1.4,>=1.1.0 (from sympy==1.13.1->torch>=1.11.0->sentence-transformers)\n",
      "  Using cached mpmath-1.3.0-py3-none-any.whl.metadata (8.6 kB)\n",
      "Collecting numpy>=1.17 (from transformers<5.0.0,>=4.41.0->sentence-transformers)\n",
      "  Using cached numpy-2.1.2-cp312-cp312-manylinux_2_17_x86_64.manylinux2014_x86_64.whl.metadata (60 kB)\n",
      "Collecting regex!=2019.12.17 (from transformers<5.0.0,>=4.41.0->sentence-transformers)\n",
      "  Using cached regex-2024.9.11-cp312-cp312-manylinux_2_17_x86_64.manylinux2014_x86_64.whl.metadata (40 kB)\n",
      "Collecting safetensors>=0.4.1 (from transformers<5.0.0,>=4.41.0->sentence-transformers)\n",
      "  Using cached safetensors-0.4.5-cp312-cp312-manylinux_2_17_x86_64.manylinux2014_x86_64.whl.metadata (3.8 kB)\n",
      "Collecting tokenizers<0.21,>=0.20 (from transformers<5.0.0,>=4.41.0->sentence-transformers)\n",
      "  Using cached tokenizers-0.20.1-cp312-cp312-manylinux_2_17_x86_64.manylinux2014_x86_64.whl.metadata (6.7 kB)\n",
      "Collecting joblib>=1.2.0 (from scikit-learn->sentence-transformers)\n",
      "  Using cached joblib-1.4.2-py3-none-any.whl.metadata (5.4 kB)\n",
      "Collecting threadpoolctl>=3.1.0 (from scikit-learn->sentence-transformers)\n",
      "  Using cached threadpoolctl-3.5.0-py3-none-any.whl.metadata (13 kB)\n",
      "Requirement already satisfied: pycparser in /home/shamim/miniconda3/envs/oracleai/lib/python3.12/site-packages (from cffi>=1.12->cryptography>=3.2.1->oracledb) (2.22)\n",
      "Requirement already satisfied: MarkupSafe>=2.0 in /home/shamim/miniconda3/envs/oracleai/lib/python3.12/site-packages (from jinja2->torch>=1.11.0->sentence-transformers) (2.1.3)\n",
      "Requirement already satisfied: charset-normalizer<4,>=2 in /home/shamim/miniconda3/envs/oracleai/lib/python3.12/site-packages (from requests->huggingface-hub>=0.20.0->sentence-transformers) (3.3.2)\n",
      "Requirement already satisfied: idna<4,>=2.5 in /home/shamim/miniconda3/envs/oracleai/lib/python3.12/site-packages (from requests->huggingface-hub>=0.20.0->sentence-transformers) (3.10)\n",
      "Requirement already satisfied: urllib3<3,>=1.21.1 in /home/shamim/miniconda3/envs/oracleai/lib/python3.12/site-packages (from requests->huggingface-hub>=0.20.0->sentence-transformers) (2.2.3)\n",
      "Using cached oracledb-2.4.1-cp312-cp312-manylinux_2_17_x86_64.manylinux2014_x86_64.whl (2.2 MB)\n",
      "Using cached sentence_transformers-3.2.1-py3-none-any.whl (255 kB)\n",
      "Using cached oci-2.137.1-py3-none-any.whl (28.3 MB)\n",
      "Using cached circuitbreaker-2.0.0-py2.py3-none-any.whl (7.6 kB)\n",
      "Using cached cryptography-43.0.3-cp39-abi3-manylinux_2_28_x86_64.whl (4.0 MB)\n",
      "Using cached huggingface_hub-0.26.2-py3-none-any.whl (447 kB)\n",
      "Using cached pyOpenSSL-24.2.1-py3-none-any.whl (58 kB)\n",
      "Using cached torch-2.5.0-cp312-cp312-manylinux1_x86_64.whl (906.4 MB)\n",
      "Using cached nvidia_cublas_cu12-12.4.5.8-py3-none-manylinux2014_x86_64.whl (363.4 MB)\n",
      "Using cached nvidia_cuda_cupti_cu12-12.4.127-py3-none-manylinux2014_x86_64.whl (13.8 MB)\n",
      "Using cached nvidia_cuda_nvrtc_cu12-12.4.127-py3-none-manylinux2014_x86_64.whl (24.6 MB)\n",
      "Using cached nvidia_cuda_runtime_cu12-12.4.127-py3-none-manylinux2014_x86_64.whl (883 kB)\n",
      "Using cached nvidia_cudnn_cu12-9.1.0.70-py3-none-manylinux2014_x86_64.whl (664.8 MB)\n",
      "Using cached nvidia_cufft_cu12-11.2.1.3-py3-none-manylinux2014_x86_64.whl (211.5 MB)\n",
      "Using cached nvidia_curand_cu12-10.3.5.147-py3-none-manylinux2014_x86_64.whl (56.3 MB)\n",
      "Using cached nvidia_cusolver_cu12-11.6.1.9-py3-none-manylinux2014_x86_64.whl (127.9 MB)\n",
      "Using cached nvidia_cusparse_cu12-12.3.1.170-py3-none-manylinux2014_x86_64.whl (207.5 MB)\n",
      "Using cached nvidia_nccl_cu12-2.21.5-py3-none-manylinux2014_x86_64.whl (188.7 MB)\n",
      "Using cached nvidia_nvjitlink_cu12-12.4.127-py3-none-manylinux2014_x86_64.whl (21.1 MB)\n",
      "Using cached nvidia_nvtx_cu12-12.4.127-py3-none-manylinux2014_x86_64.whl (99 kB)\n",
      "Using cached sympy-1.13.1-py3-none-any.whl (6.2 MB)\n",
      "Downloading triton-3.1.0-cp312-cp312-manylinux_2_17_x86_64.manylinux2014_x86_64.whl (209.6 MB)\n",
      "\u001b[2K   \u001b[90m━━━━━━━━━━━━━━━━━━━━━━━━━━━━━━━━━━━━━━━━\u001b[0m \u001b[32m209.6/209.6 MB\u001b[0m \u001b[31m8.8 MB/s\u001b[0m eta \u001b[36m0:00:00\u001b[0m00:01\u001b[0m00:01\u001b[0m\n",
      "\u001b[?25hDownloading tqdm-4.66.6-py3-none-any.whl (78 kB)\n",
      "Downloading transformers-4.46.0-py3-none-any.whl (10.0 MB)\n",
      "\u001b[2K   \u001b[90m━━━━━━━━━━━━━━━━━━━━━━━━━━━━━━━━━━━━━━━━\u001b[0m \u001b[32m10.0/10.0 MB\u001b[0m \u001b[31m8.5 MB/s\u001b[0m eta \u001b[36m0:00:00\u001b[0m \u001b[36m0:00:01\u001b[0m\n",
      "\u001b[?25hDownloading pillow-11.0.0-cp312-cp312-manylinux_2_28_x86_64.whl (4.4 MB)\n",
      "\u001b[2K   \u001b[90m━━━━━━━━━━━━━━━━━━━━━━━━━━━━━━━━━━━━━━━━\u001b[0m \u001b[32m4.4/4.4 MB\u001b[0m \u001b[31m7.9 MB/s\u001b[0m eta \u001b[36m0:00:00\u001b[0ma \u001b[36m0:00:01\u001b[0m\n",
      "\u001b[?25hDownloading scikit_learn-1.5.2-cp312-cp312-manylinux_2_17_x86_64.manylinux2014_x86_64.whl (12.9 MB)\n",
      "\u001b[2K   \u001b[90m━━━━━━━━━━━━━━━━━━━━━━━━━━━━━━━━━━━━━━━━\u001b[0m \u001b[32m12.9/12.9 MB\u001b[0m \u001b[31m8.6 MB/s\u001b[0m eta \u001b[36m0:00:00\u001b[0ma \u001b[36m0:00:01\u001b[0m\n",
      "\u001b[?25hDownloading scipy-1.14.1-cp312-cp312-manylinux_2_17_x86_64.manylinux2014_x86_64.whl (40.8 MB)\n",
      "\u001b[2K   \u001b[90m━━━━━━━━━━━━━━━━━━━━━━━━━━━━━━━━━━━━━━━━\u001b[0m \u001b[32m40.8/40.8 MB\u001b[0m \u001b[31m8.7 MB/s\u001b[0m eta \u001b[36m0:00:00\u001b[0m00:01\u001b[0m00:01\u001b[0m\n",
      "\u001b[?25hDownloading fsspec-2024.10.0-py3-none-any.whl (179 kB)\n",
      "Downloading joblib-1.4.2-py3-none-any.whl (301 kB)\n",
      "Downloading numpy-2.1.2-cp312-cp312-manylinux_2_17_x86_64.manylinux2014_x86_64.whl (16.0 MB)\n",
      "\u001b[2K   \u001b[90m━━━━━━━━━━━━━━━━━━━━━━━━━━━━━━━━━━━━━━━━\u001b[0m \u001b[32m16.0/16.0 MB\u001b[0m \u001b[31m9.8 MB/s\u001b[0m eta \u001b[36m0:00:00\u001b[0m00:01\u001b[0m00:01\u001b[0m\n",
      "\u001b[?25hDownloading regex-2024.9.11-cp312-cp312-manylinux_2_17_x86_64.manylinux2014_x86_64.whl (797 kB)\n",
      "\u001b[2K   \u001b[90m━━━━━━━━━━━━━━━━━━━━━━━━━━━━━━━━━━━━━━━━\u001b[0m \u001b[32m797.0/797.0 kB\u001b[0m \u001b[31m9.4 MB/s\u001b[0m eta \u001b[36m0:00:00\u001b[0m\n",
      "\u001b[?25hDownloading safetensors-0.4.5-cp312-cp312-manylinux_2_17_x86_64.manylinux2014_x86_64.whl (434 kB)\n",
      "Downloading threadpoolctl-3.5.0-py3-none-any.whl (18 kB)\n",
      "Downloading tokenizers-0.20.1-cp312-cp312-manylinux_2_17_x86_64.manylinux2014_x86_64.whl (3.0 MB)\n",
      "\u001b[2K   \u001b[90m━━━━━━━━━━━━━━━━━━━━━━━━━━━━━━━━━━━━━━━━\u001b[0m \u001b[32m3.0/3.0 MB\u001b[0m \u001b[31m9.4 MB/s\u001b[0m eta \u001b[36m0:00:00\u001b[0mta \u001b[36m0:00:01\u001b[0m\n",
      "\u001b[?25hDownloading filelock-3.16.1-py3-none-any.whl (16 kB)\n",
      "Downloading networkx-3.4.2-py3-none-any.whl (1.7 MB)\n",
      "\u001b[2K   \u001b[90m━━━━━━━━━━━━━━━━━━━━━━━━━━━━━━━━━━━━━━━━\u001b[0m \u001b[32m1.7/1.7 MB\u001b[0m \u001b[31m9.8 MB/s\u001b[0m eta \u001b[36m0:00:00\u001b[0m\n",
      "\u001b[?25hDownloading mpmath-1.3.0-py3-none-any.whl (536 kB)\n",
      "\u001b[2K   \u001b[90m━━━━━━━━━━━━━━━━━━━━━━━━━━━━━━━━━━━━━━━━\u001b[0m \u001b[32m536.2/536.2 kB\u001b[0m \u001b[31m9.3 MB/s\u001b[0m eta \u001b[36m0:00:00\u001b[0m\n",
      "\u001b[?25hInstalling collected packages: mpmath, circuitbreaker, tqdm, threadpoolctl, sympy, safetensors, regex, Pillow, nvidia-nvtx-cu12, nvidia-nvjitlink-cu12, nvidia-nccl-cu12, nvidia-curand-cu12, nvidia-cufft-cu12, nvidia-cuda-runtime-cu12, nvidia-cuda-nvrtc-cu12, nvidia-cuda-cupti-cu12, nvidia-cublas-cu12, numpy, networkx, joblib, fsspec, filelock, triton, scipy, nvidia-cusparse-cu12, nvidia-cudnn-cu12, huggingface-hub, cryptography, tokenizers, scikit-learn, pyOpenSSL, oracledb, nvidia-cusolver-cu12, transformers, torch, oci, sentence-transformers\n",
      "Successfully installed Pillow-11.0.0 circuitbreaker-2.0.0 cryptography-43.0.3 filelock-3.16.1 fsspec-2024.10.0 huggingface-hub-0.26.2 joblib-1.4.2 mpmath-1.3.0 networkx-3.4.2 numpy-2.1.2 nvidia-cublas-cu12-12.4.5.8 nvidia-cuda-cupti-cu12-12.4.127 nvidia-cuda-nvrtc-cu12-12.4.127 nvidia-cuda-runtime-cu12-12.4.127 nvidia-cudnn-cu12-9.1.0.70 nvidia-cufft-cu12-11.2.1.3 nvidia-curand-cu12-10.3.5.147 nvidia-cusolver-cu12-11.6.1.9 nvidia-cusparse-cu12-12.3.1.170 nvidia-nccl-cu12-2.21.5 nvidia-nvjitlink-cu12-12.4.127 nvidia-nvtx-cu12-12.4.127 oci-2.137.1 oracledb-2.4.1 pyOpenSSL-24.2.1 regex-2024.9.11 safetensors-0.4.5 scikit-learn-1.5.2 scipy-1.14.1 sentence-transformers-3.2.1 sympy-1.13.1 threadpoolctl-3.5.0 tokenizers-0.20.1 torch-2.5.0 tqdm-4.66.6 transformers-4.46.0 triton-3.1.0\n"
     ]
    }
   ],
   "source": [
    "!pip install oracledb sentence-transformers oci"
   ]
  },
  {
   "cell_type": "code",
   "execution_count": 1,
   "id": "e6393461-93a1-4bea-996c-b7df2fe6500b",
   "metadata": {},
   "outputs": [],
   "source": [
    "import os\n",
    "\n",
    "def loadFAQs(directory_path):\n",
    "    faqs = {}\n",
    "    for filename in os.listdir(directory_path):\n",
    "        if filename.endswith(\".txt\"):\n",
    "            file_path = os.path.join(directory_path, filename)\n",
    "            with open(file_path) as f:\n",
    "                raw_faq = f.read()\n",
    "            faqs[filename] = [text.strip() for text in raw_faq.split('=====')]\n",
    "    return faqs\n",
    "\n",
    "faqs = loadFAQs('.')"
   ]
  },
  {
   "cell_type": "code",
   "execution_count": 2,
   "id": "326e993f-c482-4ee6-987e-24134d8d6712",
   "metadata": {},
   "outputs": [],
   "source": [
    "docs = [{'text': filename + ' | ' + section, 'path': filename} for filename, sections in faqs.items() for section in sections]"
   ]
  },
  {
   "cell_type": "code",
   "execution_count": 3,
   "id": "851966b3-4df0-4ae1-b654-a0f11dbb817e",
   "metadata": {},
   "outputs": [],
   "source": [
    "import oracledb\n",
    "\n",
    "connection = oracledb.connect(user=\"scott\", password=\"Welcome_12345\", dsn=\"myatp_medium\", config_dir=\"/home/shamim/projects/tls_wallet\", wallet_location=\"/home/shamim/projects/tls_wallet\", wallet_password=\"Welcome_12345\")\n",
    "\n",
    "table_name = 'genaifaqs'\n",
    "with connection.cursor() as cursor:\n",
    "    cursor.execute(f\"\"\"\n",
    "        CREATE TABLE IF NOT EXISTS {table_name} (\n",
    "            id NUMBER PRIMARY KEY,\n",
    "            payload CLOB CHECK (payload IS JSON),\n",
    "            vector VECTOR\n",
    "        )\"\"\")"
   ]
  },
  {
   "cell_type": "code",
   "execution_count": 4,
   "id": "2517f68a-ac91-4da0-8673-255851d21ae5",
   "metadata": {},
   "outputs": [
    {
     "name": "stderr",
     "output_type": "stream",
     "text": [
      "/home/shamim/miniconda3/envs/oracleai/lib/python3.12/site-packages/sentence_transformers/cross_encoder/CrossEncoder.py:13: TqdmWarning: IProgress not found. Please update jupyter and ipywidgets. See https://ipywidgets.readthedocs.io/en/stable/user_install.html\n",
      "  from tqdm.autonotebook import tqdm, trange\n"
     ]
    }
   ],
   "source": [
    "from sentence_transformers import SentenceTransformer\n",
    "encoder = SentenceTransformer('all-MiniLM-L12-v2')\n",
    "\n",
    "data = [{\"id\": idx, \"vector_source\": row['text'], \"payload\": row} for idx, row in enumerate(docs)]\n",
    "texts = [row['vector_source'] for row in data]\n",
    "embeddings = encoder.encode(texts, batch_size=10)\n",
    "\n",
    "import array\n",
    "for row, embedding in zip(data, embeddings):\n",
    "    row['vector'] = array.array(\"f\", embedding)"
   ]
  },
  {
   "cell_type": "code",
   "execution_count": 5,
   "id": "237b5711-d767-4349-b74e-95e0ed9d17ca",
   "metadata": {},
   "outputs": [],
   "source": [
    "import json\n",
    "\n",
    "with connection.cursor() as cursor:\n",
    "    cursor.execute(f\"TRUNCATE TABLE {table_name}\")\n",
    "    prepared_data = [(row['id'], json.dumps(row['payload']), row['vector']) for row in data]\n",
    "    cursor.executemany(f\"INSERT INTO {table_name} (id, payload, vector) VALUES (:1, :2, :3)\", prepared_data)\n",
    "    connection.commit()"
   ]
  },
  {
   "cell_type": "code",
   "execution_count": 6,
   "id": "4c9fea8d-5886-4d9a-af52-ad56613574f0",
   "metadata": {
    "scrolled": true
   },
   "outputs": [
    {
     "name": "stdout",
     "output_type": "stream",
     "text": [
      "[(24, {'text': 'Generative_AI_FAQ.txt | Q25: What is deepfake technology?\\nA: Deepfake uses AI to create realistic, altered videos or images of people.', 'path': 'Generative_AI_FAQ.txt'}, array('f', [-0.0007201445405371487, -0.0258498378098011, 0.007152569945901632, -0.003656314220279455, -0.0020476249046623707, 0.02976640872657299, -0.0202650036662817, -0.09278019517660141, 0.03025302290916443, 0.04996906593441963, -0.03872310370206833, -0.01933300867676735, -0.007471167482435703, -0.01518948096781969, -0.042043089866638184, -0.0028244946151971817, 0.022211210802197456, 0.12178391218185425, -0.03381387144327164, -0.0340578518807888, 0.09609763324260712, 0.015460986644029617, 0.019726844504475594, -0.0542815737426281, 0.021050969138741493, -0.11579629778862, 0.0516744926571846, 0.03576965257525444, 0.07302584499120712, -0.031815771013498306, 0.04366393759846687, 0.06992501020431519, 0.04570533707737923, 0.025224527344107628, -0.04681394621729851, -0.03197052329778671, -0.05179609730839729, 0.003976959735155106, 0.008951200172305107, -0.07876211404800415, -0.0032584895379841328, 0.02772906981408596, -0.008960099890828133, -0.04171868786215782, 0.03210628405213356, 0.035554878413677216, -0.040941473096609116, 0.002780923852697015, -0.011662791483104229, 0.007602203171700239, -0.03357634320855141, -0.09633665531873703, 0.017187921330332756, 0.05266769975423813, 0.03396318107843399, -0.058524906635284424, 0.0864105373620987, -0.026631025597453117, 0.06390286237001419, -0.018208429217338562, 0.03581785038113594, -0.018051832914352417, -0.0024013840593397617, -0.00319490279071033, 0.027444208040833473, 0.0599711574614048, -0.053036827594041824, -0.04590343311429024, -0.0053205727599561214, -0.08489646762609482, -0.026305360719561577, -0.03317543491721153, 0.031634703278541565, 0.03964855521917343, 0.0010481537319719791, 0.07661321014165878, 0.006939603015780449, -0.035204172134399414, -0.08642624318599701, -0.08196250349283218, 0.10715671628713608, -0.020268552005290985, 0.0056035700254142284, -0.0689268633723259, -0.03234877437353134, -0.0319998525083065, -0.014847318641841412, -0.04039590433239937, 0.02832902781665325, 0.07448648661375046, -0.12434811890125275, 0.044649966061115265, -0.007105848286300898, -0.0321270115673542, 0.09929386526346207, 0.0009162909118458629, -0.05761381983757019, 0.003775048768147826, 0.023768719285726547, 0.0014198372373357415, -0.008945954963564873, 0.04111276566982269, -0.00939552579075098, -0.07295718789100647, -0.01735285110771656, 0.06537231802940369, -0.01668282225728035, -0.05309761315584183, -0.03188679739832878, 0.07545492053031921, 0.04466749355196953, -0.07399299740791321, 0.02314753457903862, -0.03734900802373886, 0.08699201792478561, -0.031981032341718674, -0.06170233339071274, -0.05290376767516136, -0.05279551073908806, -0.025261400267481804, -0.07787837088108063, -0.04379434883594513, -0.026259196922183037, 0.01019128318876028, 0.01914726197719574, -0.010102957487106323, -0.03988683968782425, 0.01257637795060873, 0.07110071182250977, 0.07144879549741745, 0.010222583077847958, 0.03332457318902016, 0.004372380208224058, -0.020784424617886543, 0.0261234100908041, -0.05250295251607895, 0.03401537984609604, -0.08755019307136536, -0.010257950983941555, 0.025409622117877007, -0.0694635808467865, 0.1804179698228836, -0.004487618803977966, -0.04053737595677376, -0.05096251145005226, -0.030584553256630898, 0.04656309261918068, 0.05004220828413963, 0.03211449086666107, -0.025053661316633224, 0.10677387565374374, -0.029025087133049965, -0.059665925800800323, 0.025661079213023186, 0.044834304600954056, 0.006971829570829868, 0.03267964720726013, 0.029498698189854622, -0.0730048343539238, 0.07616991549730301, -0.003963824361562729, 0.030384059995412827, 0.06017381697893143, 0.021988362073898315, 0.057303573936223984, 0.03187308460474014, -0.0439520962536335, 0.032962534576654434, 0.013743859715759754, 0.083358034491539, -0.012406669557094574, -0.034760430455207825, 0.016994833946228027, -0.009972244501113892, -0.06823298335075378, 0.04164484888315201, -0.06841380149126053, 0.05335066094994545, 0.030979910865426064, 0.011972535401582718, -0.026546532288193703, -0.025815488770604134, 0.010867118835449219, 0.029050592333078384, 0.009501781314611435, -0.026586519554257393, 0.009972518309950829, -0.008612094447016716, -0.048363786190748215, -0.05219374969601631, 0.037184346467256546, 0.11787594109773636, -0.02239173837006092, -0.04917706921696663, 0.016836563125252724, 0.023733491078019142, -0.013345812447369099, 0.019516639411449432, 0.010949462652206421, -0.05280640348792076, -0.03062785044312477, -0.023679200559854507, -0.04280038923025131, 0.020864777266979218, -0.013072996400296688, -0.05146674066781998, -0.07690013945102692, 0.010242786258459091, 0.054069701582193375, 0.08030357211828232, -0.008608692325651646, -0.08894698321819305, -0.03678731620311737, 0.06170957535505295, -0.06353648006916046, -0.04094082862138748, -0.054693225771188736, -0.036794740706682205, -0.043666042387485504, -0.09112520515918732, -0.011548971757292747, 0.05975686013698578, -0.010761150158941746, 4.8049525451311056e-33, 0.00899825431406498, 0.020776772871613503, -0.04183267802000046, 0.1015532910823822, 0.033843744546175, -0.08442331850528717, 0.008589494042098522, 0.03736303746700287, 0.0015094965929165483, -0.008269146084785461, -0.03606651350855827, 0.005142631009221077, 0.009388407692313194, -0.03583943098783493, -0.09685242176055908, -0.0970940813422203, -0.005142175126820803, 0.04913795739412308, -0.008079476654529572, -0.04797881096601486, 0.07378987222909927, -0.07651793956756592, 0.0517255961894989, 0.05159629136323929, -0.030283916741609573, 0.004532504826784134, -0.0352768637239933, 0.07814521342515945, -0.008899249136447906, 0.013142475858330727, 0.02404804527759552, -0.034327927976846695, 0.06613056361675262, 0.05281396955251694, -0.07895009219646454, 0.05905454233288765, 0.07000661641359329, -0.07539335638284683, -0.0005955984233878553, -0.09373069554567337, 0.057417768985033035, 0.08482407033443451, -0.14984287321567535, 0.0800214484333992, -0.06946181505918503, -0.023524243384599686, -0.10924884676933289, -0.10059583932161331, 0.06082310900092125, 0.023724310100078583, 0.016648422926664352, -0.05799570679664612, -0.0025130226276814938, -0.05811838433146477, -0.028160467743873596, 0.046880949288606644, -0.04941614344716072, -0.04366878420114517, 0.06627851724624634, 0.1448431760072708, -0.0036571987438946962, -0.05076416954398155, -0.06277123093605042, 0.08172951638698578, -0.1092672199010849, -0.01718680001795292, -0.02241344377398491, 0.052914172410964966, 0.006948861293494701, -0.03138289973139763, 0.05699070170521736, 0.04226173460483551, 0.07327297329902649, 0.046345822513103485, 0.010920077562332153, -0.034543100744485855, 0.019079696387052536, 0.002384505933150649, 0.014852655120193958, 0.0486547127366066, 0.04472360014915466, -0.12490462511777878, -0.039243947714567184, 0.007155848667025566, -0.007673528511077166, 0.11044182628393173, -0.02890612557530403, 0.0241484884172678, -0.06345587968826294, 0.01684078574180603, 0.019369926303625107, 0.07314444333314896, -0.09272989630699158, -0.0017808079719543457, -0.06421300768852234, 6.194344476538023e-32, -0.03303951025009155, 0.018097398802638054, 0.008888964541256428, 0.01974458247423172, 0.00397006468847394, -0.024748990312218666, 0.03869815170764923, 0.0024796652141958475, 0.011705602519214153, -0.10232599824666977, 0.0371549017727375, -0.024886302649974823, 0.0637677013874054, 0.1257578730583191, 0.05836343765258789, 0.13604740798473358, 0.05107063055038452, 0.039887480437755585, 0.001170992269180715, -0.040142450481653214, 0.04127778485417366, -0.036431245505809784, -0.010884515009820461, -0.02750159427523613, 0.001617170637473464, -0.08860639482736588, -0.07820253074169159, 0.03009500540792942, -0.016000231727957726, -0.03363315016031265, -0.037960924208164215, 0.04851206764578819, 0.014042017981410027, 0.0002425287530058995, -0.01737830601632595, 0.02589036524295807, 0.01988082006573677, -0.03165439888834953, -0.0029885806143283844, -0.004141580313444138, 0.026774030178785324, 0.09926757961511612, -0.0011313509894534945, -0.08080672472715378, -0.06219738349318504, 0.025078121572732925, 0.04287952557206154, -0.11656811088323593, -0.012336247600615025, 0.02731931582093239, 0.05058122053742409, 0.033783771097660065, 0.026819707825779915, 0.0038118876982480288, -0.019132906571030617, 0.04248454421758652, 0.022089479491114616, -0.003948397934436798, 0.025298893451690674, 0.08166499435901642, 0.014721834100782871, -0.019895223900675774, 0.050059810280799866, -0.04207749664783478]))]\n"
     ]
    }
   ],
   "source": [
    "cr = connection.cursor()\n",
    "r = cr.execute(\"SELECT * FROM genaifaqs f where rownum =1\")\n",
    "print(r.fetchall())"
   ]
  },
  {
   "cell_type": "code",
   "execution_count": 13,
   "id": "bcbd4422-24bb-4011-b2fb-8e0494f43672",
   "metadata": {},
   "outputs": [],
   "source": [
    "topK = 4\n",
    "sql = f\"\"\"SELECT payload, vector_distance(vector, :vector, COSINE) AS score\n",
    "          FROM {table_name}\n",
    "          ORDER BY score\n",
    "          FETCH FIRST {topK} ROWS ONLY\"\"\""
   ]
  },
  {
   "cell_type": "code",
   "execution_count": 14,
   "id": "60ae6a25-9922-4315-85bb-21c9b7dff448",
   "metadata": {},
   "outputs": [],
   "source": [
    "question = \"What are GANs?\"\n",
    "embedding = list(encoder.encode(question))\n",
    "vector = array.array(\"f\", embedding)\n",
    "\n",
    "results = []\n",
    "with connection.cursor() as cursor:\n",
    "    for (info, score,) in cursor.execute(sql, vector=vector):\n",
    "        text_content = info.read()\n",
    "        results.append((score, json.loads(text_content)))"
   ]
  },
  {
   "cell_type": "code",
   "execution_count": 15,
   "id": "6beaadc6-0d64-43f2-82c7-9102f8b43874",
   "metadata": {},
   "outputs": [
    {
     "name": "stdout",
     "output_type": "stream",
     "text": [
      "[(0.27902800283631, {'text': 'Generative_AI_FAQ.txt | Q6: What are GANs?\\nA: GANs are models with two networks—generator and discriminator—that work together to produce realistic outputs.', 'path': 'Generative_AI_FAQ.txt'}), (0.5485436443629503, {'text': 'Generative_AI_FAQ.txt | Q26: Are deepfakes harmful?\\nA: They can be used maliciously, but also have valid applications in entertainment.', 'path': 'Generative_AI_FAQ.txt'}), (0.5558175537684329, {'text': 'Generative_AI_FAQ.txt | ', 'path': 'Generative_AI_FAQ.txt'}), (0.5777062333924782, {'text': 'Generative_AI_FAQ.txt | Q22: What is AI-generated art?\\nA: Artwork created by AI models trained on visual data to generate creative visuals.', 'path': 'Generative_AI_FAQ.txt'})]\n"
     ]
    }
   ],
   "source": [
    "print(results)"
   ]
  },
  {
   "cell_type": "code",
   "execution_count": null,
   "id": "ab0a93e2-048b-4d75-a2ca-1eeae3643beb",
   "metadata": {},
   "outputs": [],
   "source": []
  }
 ],
 "metadata": {
  "kernelspec": {
   "display_name": "Python 3 (ipykernel)",
   "language": "python",
   "name": "python3"
  },
  "language_info": {
   "codemirror_mode": {
    "name": "ipython",
    "version": 3
   },
   "file_extension": ".py",
   "mimetype": "text/x-python",
   "name": "python",
   "nbconvert_exporter": "python",
   "pygments_lexer": "ipython3",
   "version": "3.12.7"
  }
 },
 "nbformat": 4,
 "nbformat_minor": 5
}
