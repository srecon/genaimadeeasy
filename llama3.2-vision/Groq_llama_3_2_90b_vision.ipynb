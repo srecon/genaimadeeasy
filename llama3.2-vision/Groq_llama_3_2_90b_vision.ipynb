{
  "nbformat": 4,
  "nbformat_minor": 0,
  "metadata": {
    "colab": {
      "provenance": []
    },
    "kernelspec": {
      "name": "python3",
      "display_name": "Python 3"
    },
    "language_info": {
      "name": "python"
    }
  },
  "cells": [
    {
      "cell_type": "code",
      "execution_count": 1,
      "metadata": {
        "colab": {
          "base_uri": "https://localhost:8080/"
        },
        "id": "q1Epwl6NPyOX",
        "outputId": "55e24fd8-850e-4895-f163-a49cc5519bc3"
      },
      "outputs": [
        {
          "output_type": "stream",
          "name": "stdout",
          "text": [
            "Collecting Groq\n",
            "  Downloading groq-0.11.0-py3-none-any.whl.metadata (13 kB)\n",
            "Requirement already satisfied: anyio<5,>=3.5.0 in /usr/local/lib/python3.10/dist-packages (from Groq) (3.7.1)\n",
            "Requirement already satisfied: distro<2,>=1.7.0 in /usr/lib/python3/dist-packages (from Groq) (1.7.0)\n",
            "Collecting httpx<1,>=0.23.0 (from Groq)\n",
            "  Downloading httpx-0.27.2-py3-none-any.whl.metadata (7.1 kB)\n",
            "Requirement already satisfied: pydantic<3,>=1.9.0 in /usr/local/lib/python3.10/dist-packages (from Groq) (2.9.2)\n",
            "Requirement already satisfied: sniffio in /usr/local/lib/python3.10/dist-packages (from Groq) (1.3.1)\n",
            "Requirement already satisfied: typing-extensions<5,>=4.7 in /usr/local/lib/python3.10/dist-packages (from Groq) (4.12.2)\n",
            "Requirement already satisfied: idna>=2.8 in /usr/local/lib/python3.10/dist-packages (from anyio<5,>=3.5.0->Groq) (3.10)\n",
            "Requirement already satisfied: exceptiongroup in /usr/local/lib/python3.10/dist-packages (from anyio<5,>=3.5.0->Groq) (1.2.2)\n",
            "Requirement already satisfied: certifi in /usr/local/lib/python3.10/dist-packages (from httpx<1,>=0.23.0->Groq) (2024.8.30)\n",
            "Collecting httpcore==1.* (from httpx<1,>=0.23.0->Groq)\n",
            "  Downloading httpcore-1.0.6-py3-none-any.whl.metadata (21 kB)\n",
            "Collecting h11<0.15,>=0.13 (from httpcore==1.*->httpx<1,>=0.23.0->Groq)\n",
            "  Downloading h11-0.14.0-py3-none-any.whl.metadata (8.2 kB)\n",
            "Requirement already satisfied: annotated-types>=0.6.0 in /usr/local/lib/python3.10/dist-packages (from pydantic<3,>=1.9.0->Groq) (0.7.0)\n",
            "Requirement already satisfied: pydantic-core==2.23.4 in /usr/local/lib/python3.10/dist-packages (from pydantic<3,>=1.9.0->Groq) (2.23.4)\n",
            "Downloading groq-0.11.0-py3-none-any.whl (106 kB)\n",
            "\u001b[2K   \u001b[90m━━━━━━━━━━━━━━━━━━━━━━━━━━━━━━━━━━━━━━━━\u001b[0m \u001b[32m106.5/106.5 kB\u001b[0m \u001b[31m3.3 MB/s\u001b[0m eta \u001b[36m0:00:00\u001b[0m\n",
            "\u001b[?25hDownloading httpx-0.27.2-py3-none-any.whl (76 kB)\n",
            "\u001b[2K   \u001b[90m━━━━━━━━━━━━━━━━━━━━━━━━━━━━━━━━━━━━━━━━\u001b[0m \u001b[32m76.4/76.4 kB\u001b[0m \u001b[31m3.2 MB/s\u001b[0m eta \u001b[36m0:00:00\u001b[0m\n",
            "\u001b[?25hDownloading httpcore-1.0.6-py3-none-any.whl (78 kB)\n",
            "\u001b[2K   \u001b[90m━━━━━━━━━━━━━━━━━━━━━━━━━━━━━━━━━━━━━━━━\u001b[0m \u001b[32m78.0/78.0 kB\u001b[0m \u001b[31m4.2 MB/s\u001b[0m eta \u001b[36m0:00:00\u001b[0m\n",
            "\u001b[?25hDownloading h11-0.14.0-py3-none-any.whl (58 kB)\n",
            "\u001b[2K   \u001b[90m━━━━━━━━━━━━━━━━━━━━━━━━━━━━━━━━━━━━━━━━\u001b[0m \u001b[32m58.3/58.3 kB\u001b[0m \u001b[31m2.4 MB/s\u001b[0m eta \u001b[36m0:00:00\u001b[0m\n",
            "\u001b[?25hInstalling collected packages: h11, httpcore, httpx, Groq\n",
            "Successfully installed Groq-0.11.0 h11-0.14.0 httpcore-1.0.6 httpx-0.27.2\n"
          ]
        }
      ],
      "source": [
        "!pip install Groq"
      ]
    },
    {
      "cell_type": "code",
      "source": [
        "from groq import Groq"
      ],
      "metadata": {
        "id": "ur8bc-d8QPxK"
      },
      "execution_count": 20,
      "outputs": []
    },
    {
      "cell_type": "code",
      "source": [
        "from google.colab import userdata\n",
        "key = userdata.get('GROQ_API_KEY')"
      ],
      "metadata": {
        "id": "JNUbMl2xQfBi"
      },
      "execution_count": 21,
      "outputs": []
    },
    {
      "cell_type": "code",
      "source": [
        "client = Groq(api_key=key)"
      ],
      "metadata": {
        "id": "gI0fTvk6QUPx"
      },
      "execution_count": 22,
      "outputs": []
    },
    {
      "cell_type": "code",
      "source": [
        "#model_name=\"llama-3.2-11b-vision-preview\"\n",
        "model_name=\"llama-3.2-90b-vision-preview\"\n",
        "IMAGE_DATA_URL=\"https://static.craftum.com/HMonoSnH_i4wZBPY9Cfv0Kt7p8g=/2000x0/filters:no_upscale()/https://274418.selcdn.ru/cv08300-33250f0d-0664-43fc-9dbf-9d89738d114e/uploads/67414/3b84ff56-af7e-4405-8382-2e599be3bf09.png\"\n",
        "\n",
        "response = client.chat.completions.create(\n",
        "    model=model_name,\n",
        "    messages=[\n",
        "        {\n",
        "            \"role\": \"user\",\n",
        "            \"content\": [\n",
        "                {\n",
        "                    \"type\": \"text\",\n",
        "                    \"text\": \"Describe the Image in details\"\n",
        "                },\n",
        "                {\n",
        "                    \"type\": \"image_url\",\n",
        "                    \"image_url\": {\n",
        "                        \"url\": IMAGE_DATA_URL\n",
        "                    }\n",
        "                }\n",
        "            ]\n",
        "        }\n",
        "    ],\n",
        "    temperature=0.7,\n",
        "    max_tokens=1024,\n",
        "    top_p=1,\n",
        "    stream=False,\n",
        "    stop=None,\n",
        ")"
      ],
      "metadata": {
        "id": "zGdhlDe4Qx_p"
      },
      "execution_count": 25,
      "outputs": []
    },
    {
      "cell_type": "code",
      "source": [
        "print(response.choices[0].message.content)"
      ],
      "metadata": {
        "colab": {
          "base_uri": "https://localhost:8080/"
        },
        "id": "HraVq6VoRflo",
        "outputId": "1fda639d-7f58-41c5-d8cc-25aafb513333"
      },
      "execution_count": 26,
      "outputs": [
        {
          "output_type": "stream",
          "name": "stdout",
          "text": [
            "The image presents a complex flowchart illustrating the process of querying data from a database. The chart is divided into several sections, each representing a different stage in the query execution process.\n",
            "\n",
            "**Producer Section:**\n",
            "\n",
            "*   The producer section is located at the top-left corner of the image.\n",
            "*   It features a series of boxes with labels such as \"App Server 1,\" \"Hibernate Session 1,\" and \"Hibernate Session 2.\"\n",
            "*   These boxes are connected by arrows, indicating the flow of data between them.\n",
            "*   A blue arrow points to the \"JDBC Client\" box, which is labeled as the \"Submit SQL Query\" step.\n",
            "\n",
            "**JDBC Client Section:**\n",
            "\n",
            "*   The JDBC client section is situated below the producer section.\n",
            "*   It contains a single box labeled \"JDBC Client,\" which is connected to the \"Submit SQL Query\" box via a blue arrow.\n",
            "*   This section appears to be responsible for submitting SQL queries to the database.\n",
            "\n",
            "**Database Section:**\n",
            "\n",
            "*   The database section is located at the center of the image.\n",
            "*   It features a large box labeled \"Database (DB6),\" which is surrounded by several smaller boxes representing different types of data, such as \"Types,\" \"Tables,\" and \"Indexes.\"\n",
            "*   Arrows connect these smaller boxes to the \"Database (DB6)\" box, indicating the relationships between them.\n",
            "*   A blue arrow points from the \"Database (DB6)\" box to the \"Node 4\" box, suggesting that the query results are being returned to Node 4.\n",
            "\n",
            "**Node 4 Section:**\n",
            "\n",
            "*   The Node 4 section is located at the bottom-right corner of the image.\n",
            "*   It consists of a single box labeled \"Node 4,\" which is connected to the \"Database (DB6)\" box via a blue arrow.\n",
            "*   This section likely represents the final destination of the query results.\n",
            "\n",
            "**Other Elements:**\n",
            "\n",
            "*   Throughout the image, there are various other elements, including:\n",
            "    *   A series of small boxes labeled \"App Server 1\" and \"App Server 2,\" which appear to represent different application servers.\n",
            "    *   Several boxes labeled \"Hibernate Session 1\" and \"Hibernate Session 2,\" which suggest that the system is using Hibernate as an ORM tool.\n",
            "    *   A few boxes labeled \"Cache,\" which may indicate caching mechanisms being used in the system.\n",
            "\n",
            "Overall, the image provides a detailed overview of the query execution process, highlighting the key components involved and their relationships with one another.\n"
          ]
        }
      ]
    }
  ]
}