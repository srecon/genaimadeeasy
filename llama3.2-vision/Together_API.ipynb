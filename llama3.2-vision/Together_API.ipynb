{
  "nbformat": 4,
  "nbformat_minor": 0,
  "metadata": {
    "colab": {
      "provenance": [],
      "toc_visible": true
    },
    "kernelspec": {
      "name": "python3",
      "display_name": "Python 3"
    },
    "language_info": {
      "name": "python"
    }
  },
  "cells": [
    {
      "cell_type": "code",
      "source": [
        "!pip install Together"
      ],
      "metadata": {
        "colab": {
          "base_uri": "https://localhost:8080/"
        },
        "collapsed": true,
        "id": "uMh48OWcqBml",
        "outputId": "3e92c494-ec30-4c33-b9a8-66a5f4f74f15"
      },
      "execution_count": 2,
      "outputs": [
        {
          "output_type": "stream",
          "name": "stdout",
          "text": [
            "Collecting Together\n",
            "  Downloading together-1.3.2-py3-none-any.whl.metadata (11 kB)\n",
            "Requirement already satisfied: aiohttp<4.0.0,>=3.9.3 in /usr/local/lib/python3.10/dist-packages (from Together) (3.10.10)\n",
            "Requirement already satisfied: click<9.0.0,>=8.1.7 in /usr/local/lib/python3.10/dist-packages (from Together) (8.1.7)\n",
            "Requirement already satisfied: eval-type-backport<0.3.0,>=0.1.3 in /usr/local/lib/python3.10/dist-packages (from Together) (0.2.0)\n",
            "Requirement already satisfied: filelock<4.0.0,>=3.13.1 in /usr/local/lib/python3.10/dist-packages (from Together) (3.16.1)\n",
            "Requirement already satisfied: numpy>=1.23.5 in /usr/local/lib/python3.10/dist-packages (from Together) (1.26.4)\n",
            "Requirement already satisfied: pillow<11.0.0,>=10.3.0 in /usr/local/lib/python3.10/dist-packages (from Together) (10.4.0)\n",
            "Requirement already satisfied: pyarrow>=10.0.1 in /usr/local/lib/python3.10/dist-packages (from Together) (16.1.0)\n",
            "Requirement already satisfied: pydantic<3.0.0,>=2.6.3 in /usr/local/lib/python3.10/dist-packages (from Together) (2.9.2)\n",
            "Requirement already satisfied: requests<3.0.0,>=2.31.0 in /usr/local/lib/python3.10/dist-packages (from Together) (2.32.3)\n",
            "Requirement already satisfied: rich<14.0.0,>=13.8.1 in /usr/local/lib/python3.10/dist-packages (from Together) (13.9.2)\n",
            "Requirement already satisfied: tabulate<0.10.0,>=0.9.0 in /usr/local/lib/python3.10/dist-packages (from Together) (0.9.0)\n",
            "Requirement already satisfied: tqdm<5.0.0,>=4.66.2 in /usr/local/lib/python3.10/dist-packages (from Together) (4.66.5)\n",
            "Requirement already satisfied: typer<0.13,>=0.9 in /usr/local/lib/python3.10/dist-packages (from Together) (0.12.5)\n",
            "Requirement already satisfied: aiohappyeyeballs>=2.3.0 in /usr/local/lib/python3.10/dist-packages (from aiohttp<4.0.0,>=3.9.3->Together) (2.4.3)\n",
            "Requirement already satisfied: aiosignal>=1.1.2 in /usr/local/lib/python3.10/dist-packages (from aiohttp<4.0.0,>=3.9.3->Together) (1.3.1)\n",
            "Requirement already satisfied: attrs>=17.3.0 in /usr/local/lib/python3.10/dist-packages (from aiohttp<4.0.0,>=3.9.3->Together) (24.2.0)\n",
            "Requirement already satisfied: frozenlist>=1.1.1 in /usr/local/lib/python3.10/dist-packages (from aiohttp<4.0.0,>=3.9.3->Together) (1.4.1)\n",
            "Requirement already satisfied: multidict<7.0,>=4.5 in /usr/local/lib/python3.10/dist-packages (from aiohttp<4.0.0,>=3.9.3->Together) (6.1.0)\n",
            "Requirement already satisfied: yarl<2.0,>=1.12.0 in /usr/local/lib/python3.10/dist-packages (from aiohttp<4.0.0,>=3.9.3->Together) (1.14.0)\n",
            "Requirement already satisfied: async-timeout<5.0,>=4.0 in /usr/local/lib/python3.10/dist-packages (from aiohttp<4.0.0,>=3.9.3->Together) (4.0.3)\n",
            "Requirement already satisfied: annotated-types>=0.6.0 in /usr/local/lib/python3.10/dist-packages (from pydantic<3.0.0,>=2.6.3->Together) (0.7.0)\n",
            "Requirement already satisfied: pydantic-core==2.23.4 in /usr/local/lib/python3.10/dist-packages (from pydantic<3.0.0,>=2.6.3->Together) (2.23.4)\n",
            "Requirement already satisfied: typing-extensions>=4.6.1 in /usr/local/lib/python3.10/dist-packages (from pydantic<3.0.0,>=2.6.3->Together) (4.12.2)\n",
            "Requirement already satisfied: charset-normalizer<4,>=2 in /usr/local/lib/python3.10/dist-packages (from requests<3.0.0,>=2.31.0->Together) (3.4.0)\n",
            "Requirement already satisfied: idna<4,>=2.5 in /usr/local/lib/python3.10/dist-packages (from requests<3.0.0,>=2.31.0->Together) (3.10)\n",
            "Requirement already satisfied: urllib3<3,>=1.21.1 in /usr/local/lib/python3.10/dist-packages (from requests<3.0.0,>=2.31.0->Together) (2.2.3)\n",
            "Requirement already satisfied: certifi>=2017.4.17 in /usr/local/lib/python3.10/dist-packages (from requests<3.0.0,>=2.31.0->Together) (2024.8.30)\n",
            "Requirement already satisfied: markdown-it-py>=2.2.0 in /usr/local/lib/python3.10/dist-packages (from rich<14.0.0,>=13.8.1->Together) (3.0.0)\n",
            "Requirement already satisfied: pygments<3.0.0,>=2.13.0 in /usr/local/lib/python3.10/dist-packages (from rich<14.0.0,>=13.8.1->Together) (2.18.0)\n",
            "Requirement already satisfied: shellingham>=1.3.0 in /usr/local/lib/python3.10/dist-packages (from typer<0.13,>=0.9->Together) (1.5.4)\n",
            "Requirement already satisfied: mdurl~=0.1 in /usr/local/lib/python3.10/dist-packages (from markdown-it-py>=2.2.0->rich<14.0.0,>=13.8.1->Together) (0.1.2)\n",
            "Requirement already satisfied: propcache>=0.2.0 in /usr/local/lib/python3.10/dist-packages (from yarl<2.0,>=1.12.0->aiohttp<4.0.0,>=3.9.3->Together) (0.2.0)\n",
            "Downloading together-1.3.2-py3-none-any.whl (68 kB)\n",
            "\u001b[2K   \u001b[90m━━━━━━━━━━━━━━━━━━━━━━━━━━━━━━━━━━━━━━━━\u001b[0m \u001b[32m68.0/68.0 kB\u001b[0m \u001b[31m2.3 MB/s\u001b[0m eta \u001b[36m0:00:00\u001b[0m\n",
            "\u001b[?25hInstalling collected packages: Together\n",
            "Successfully installed Together-1.3.2\n"
          ]
        }
      ]
    },
    {
      "cell_type": "code",
      "execution_count": 3,
      "metadata": {
        "id": "6kXIJjV7pu3q"
      },
      "outputs": [],
      "source": [
        "from together import Together"
      ]
    },
    {
      "cell_type": "code",
      "source": [
        "from google.colab import userdata\n",
        "key = userdata.get('TOGETHER_API_KEY')"
      ],
      "metadata": {
        "id": "-XctoLD9qV6X"
      },
      "execution_count": 31,
      "outputs": []
    },
    {
      "cell_type": "code",
      "source": [
        "client = Together(api_key=key)"
      ],
      "metadata": {
        "id": "WQWICo-sqHDg"
      },
      "execution_count": 32,
      "outputs": []
    },
    {
      "cell_type": "code",
      "source": [
        "IMAGE_DATA_URL=\"https://static.craftum.com/HMonoSnH_i4wZBPY9Cfv0Kt7p8g=/2000x0/filters:no_upscale()/https://274418.selcdn.ru/cv08300-33250f0d-0664-43fc-9dbf-9d89738d114e/uploads/67414/3b84ff56-af7e-4405-8382-2e599be3bf09.png\"\n",
        "\n",
        "response = client.chat.completions.create(\n",
        "    model=\"meta-llama/Llama-3.2-90B-Vision-Instruct-Turbo\",\n",
        "    messages=[\n",
        "        {\n",
        "                \"role\": \"user\",\n",
        "                \"content\": [\n",
        "                        {\n",
        "                                \"type\": \"text\",\n",
        "                                \"text\": \"Describe the Image in details\"\n",
        "                        },\n",
        "                        {\n",
        "                                \"type\": \"image_url\",\n",
        "                                \"image_url\": {\n",
        "                                        \"url\": IMAGE_DATA_URL\n",
        "                                }\n",
        "                        }\n",
        "                ]\n",
        "        }\n",
        "\n",
        "    ],\n",
        "    max_tokens=512,\n",
        "    temperature=0.7,\n",
        "    top_p=0.7,\n",
        "    top_k=50,\n",
        "    repetition_penalty=1,\n",
        "    stop=[\"<|eot_id|>\",\"<|eom_id|>\"]\n",
        ")\n",
        "\n"
      ],
      "metadata": {
        "id": "zlenl-3_sert"
      },
      "execution_count": 33,
      "outputs": []
    },
    {
      "cell_type": "code",
      "source": [
        "print(response.choices[0].message.content)"
      ],
      "metadata": {
        "colab": {
          "base_uri": "https://localhost:8080/"
        },
        "id": "TXUZSupys_qB",
        "outputId": "1b34fc8f-2998-478d-f6d3-9acd58d6fd23"
      },
      "execution_count": 34,
      "outputs": [
        {
          "output_type": "stream",
          "name": "stdout",
          "text": [
            "The image presents a comprehensive diagram illustrating the architecture of a data processing system, comprising various components and their interactions. The diagram is divided into several sections, each representing a distinct stage in the data processing pipeline.\n",
            "\n",
            "**Section 1: Producer**\n",
            "\n",
            "*   The producer section is located at the top-left corner of the diagram.\n",
            "*   It consists of a single component labeled \"Producer,\" which is connected to the \"Apac\" component via an arrow.\n",
            "*   The producer is responsible for generating data that will be processed by the system.\n",
            "\n",
            "**Section 2: Apac**\n",
            "\n",
            "*   The Apac section is situated below the producer section.\n",
            "*   It comprises two components: \"Dataset (2016)\" and \"DataFrame.\"\n",
            "*   The dataset component is connected to the dataframe component via an arrow.\n",
            "*   The Apac section is responsible for preparing the data for processing.\n",
            "\n",
            "**Section 3: JDBC Client**\n",
            "\n",
            "*   The JDBC client section is located at the bottom-left corner of the diagram.\n",
            "*   It consists of a single component labeled \"JDBC Client,\" which is connected to the \"Q/C - SQL query\" component via an arrow.\n",
            "*   The JDBC client is responsible for submitting SQL queries to the system.\n",
            "\n",
            "**Section 4: Q/C - SQL query**\n",
            "\n",
            "*   The Q/C - SQL query section is situated below the JDBC client section.\n",
            "*   It comprises two components: \"R - Query result\" and \"E(Q) - Query execution on local collocated data.\"\n",
            "*   The R component is connected to the E(Q) component via an arrow.\n",
            "*   The Q/C - SQL query section is responsible for executing SQL queries on the data.\n",
            "\n",
            "**Section 5: Node 4**\n",
            "\n",
            "*   The Node 4 section is located at the bottom-right corner of the diagram.\n",
            "*   It consists of a single component labeled \"Node 4,\" which is connected to the \"Hibernation Session 1\" component via an arrow.\n",
            "*   The Node 4 section is responsible for managing the hibernation session.\n",
            "\n",
            "**Section 6: Hibernation Session 1**\n",
            "\n",
            "*   The Hibernation Session 1 section is situated below the Node 4 section.\n",
            "*   It comprises two components: \"L1 Cache\" and \"L1 Cache.\"\n",
            "*   The L1 Cache components are connected to each other via an arrow.\n",
            "*   The Hibernation Session 1 section is responsible for managing the L1 cache.\n",
            "\n",
            "**Section 7: App Server 1**\n",
            "\n",
            "*   The App Server\n"
          ]
        }
      ]
    },
    {
      "cell_type": "code",
      "source": [],
      "metadata": {
        "id": "OY3mZJ6rrLqG"
      },
      "execution_count": null,
      "outputs": []
    }
  ]
}